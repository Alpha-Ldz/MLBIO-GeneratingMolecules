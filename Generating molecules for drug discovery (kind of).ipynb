{
 "cells": [
  {
   "cell_type": "markdown",
   "metadata": {},
   "source": [
    "# RNN Based molucule generation \n",
    "\n",
    "Laurent Cetinsoy\n",
    "\n",
    "In this hands-on we want to generate molecule formulas for denovo-drug discovery. \n",
    "\n",
    "For that we need to use Generative models. Generative models are models which goes beyond classification or simple regression : they are able to generate data that look like previously seens dataset. \n",
    "\n",
    "There exists a lot of models : \n",
    "\n",
    "- Bayesian models like graphical models\n",
    "- Recurrent models (for sequence generation like texte)\n",
    "- Variational auto encoders\n",
    "- Generative adversarial models\n",
    "- Flow and diffusion models \n",
    "\n",
    "\n",
    "In the hands-on we will start by  trainning a character based RNN to generate smile molecules\n",
    "\n",
    "\n",
    "We want to feed smile representations of molecules to an RNN.\n",
    "The basic idea is we will train it to predict the next smile token of a molecule given the previous one. \n",
    "\n",
    "For instance for the following molecule \"CC(=O)NC1=CC=C(O)C=C1\" will may give to the model\n",
    "\n",
    "X = \"CC(=O)N\" \n",
    "y = C\n",
    "\n",
    "and ask the RNN to learn to predict y given X\n",
    "\n",
    "Like a standard language model !\n"
   ]
  },
  {
   "cell_type": "markdown",
   "metadata": {},
   "source": [
    "## RNN Language model \n",
    "\n",
    "\n",
    "A language model is a model which predict the next token of a sequence given the previous ones : \n",
    "\n",
    "$ P(X_t | X_{t-1}, X_{t-2}, ..., X_{t-p})  $\n",
    "\n",
    "\n",
    "This model can be learned with a Recurrent neural network \n",
    "\n",
    "$ y = P(X_t | X_{t-1}, X_{t-2}, ..., X_{t-p}) = RNN_{\\theta} (X_{t-1}, X_{t-2}, ..., X_{t-p})  $\n",
    "\n",
    "\n",
    "In order to train such model you need a corpus of data. \n",
    "\n",
    "\n",
    "\n",
    "There are two main ways to do that : Word level model or character level model\n",
    "\n",
    "For character level models, an interesting resource is : http://karpathy.github.io/2015/05/21/rnn-effectiveness/\n",
    "\n"
   ]
  },
  {
   "cell_type": "markdown",
   "metadata": {},
   "source": [
    "Explain briefly what is the difference between word based language model and character based language model "
   ]
  },
  {
   "cell_type": "markdown",
   "metadata": {},
   "source": []
  },
  {
   "cell_type": "markdown",
   "metadata": {},
   "source": [
    "## Loading the data"
   ]
  },
  {
   "cell_type": "markdown",
   "metadata": {},
   "source": [
    "Dowload the following dataset : https://github.com/joeymach/Leveraging-VAE-to-generate-molecules"
   ]
  },
  {
   "cell_type": "code",
   "execution_count": null,
   "metadata": {},
   "outputs": [
    {
     "name": "stdout",
     "output_type": "stream",
     "text": [
      "Cloning into './data'...\n",
      "remote: Enumerating objects: 40, done.\u001b[K\n",
      "remote: Counting objects: 100% (40/40), done.\u001b[K\n",
      "remote: Compressing objects: 100% (36/36), done.\u001b[K\n",
      "remote: Total 40 (delta 16), reused 5 (delta 2), pack-reused 0\u001b[K\n",
      "Receiving objects: 100% (40/40), 8.46 MiB | 5.09 MiB/s, done.\n",
      "Resolving deltas: 100% (16/16), done.\n"
     ]
    }
   ],
   "source": [
    "!git clone https://github.com/joeymach/Leveraging-VAE-to-generate-molecules.git ./data/"
   ]
  },
  {
   "cell_type": "markdown",
   "metadata": {},
   "source": [
    "Import pandas and load the first 1000 lines"
   ]
  },
  {
   "cell_type": "code",
   "execution_count": null,
   "metadata": {},
   "outputs": [],
   "source": [
    "import pandas as pd\n",
    "\n",
    "# Import the first 1000 lines\n",
    "df = pd.read_csv('./data/250k_smiles.csv', nrows=1000)"
   ]
  },
  {
   "cell_type": "markdown",
   "metadata": {},
   "source": [
    "Display the first rows of the dataframe"
   ]
  },
  {
   "cell_type": "code",
   "execution_count": null,
   "metadata": {},
   "outputs": [
    {
     "data": {
      "text/html": [
       "<div>\n",
       "<style scoped>\n",
       "    .dataframe tbody tr th:only-of-type {\n",
       "        vertical-align: middle;\n",
       "    }\n",
       "\n",
       "    .dataframe tbody tr th {\n",
       "        vertical-align: top;\n",
       "    }\n",
       "\n",
       "    .dataframe thead th {\n",
       "        text-align: right;\n",
       "    }\n",
       "</style>\n",
       "<table border=\"1\" class=\"dataframe\">\n",
       "  <thead>\n",
       "    <tr style=\"text-align: right;\">\n",
       "      <th></th>\n",
       "      <th>smiles</th>\n",
       "      <th>logP</th>\n",
       "      <th>qed</th>\n",
       "      <th>SAS</th>\n",
       "    </tr>\n",
       "  </thead>\n",
       "  <tbody>\n",
       "    <tr>\n",
       "      <th>0</th>\n",
       "      <td>CC(C)(C)c1ccc2occ(CC(=O)Nc3ccccc3F)c2c1\\n</td>\n",
       "      <td>5.0506</td>\n",
       "      <td>0.702012</td>\n",
       "      <td>2.084095</td>\n",
       "    </tr>\n",
       "  </tbody>\n",
       "</table>\n",
       "</div>"
      ],
      "text/plain": [
       "                                      smiles    logP       qed       SAS\n",
       "0  CC(C)(C)c1ccc2occ(CC(=O)Nc3ccccc3F)c2c1\\n  5.0506  0.702012  2.084095"
      ]
     },
     "execution_count": 6,
     "metadata": {},
     "output_type": "execute_result"
    }
   ],
   "source": [
    "df.head(1)"
   ]
  },
  {
   "cell_type": "markdown",
   "metadata": {},
   "source": [
    "## Processing the data\n",
    "\n",
    "We need to do the following things : \n",
    "\n",
    "- convert smile tokens to numbers\n",
    "- build  smile token sequences and corresponding labels pairs"
   ]
  },
  {
   "cell_type": "markdown",
   "metadata": {},
   "source": [
    "Compute the biggest smile molecule size"
   ]
  },
  {
   "cell_type": "code",
   "execution_count": null,
   "metadata": {},
   "outputs": [
    {
     "data": {
      "text/plain": [
       "106"
      ]
     },
     "execution_count": 7,
     "metadata": {},
     "output_type": "execute_result"
    }
   ],
   "source": [
    "df['smiles'].str.len().max()"
   ]
  },
  {
   "cell_type": "markdown",
   "metadata": {},
   "source": [
    "\n",
    "Code a function **unic_characters(string)** which return the unic characters in a string\n"
   ]
  },
  {
   "cell_type": "code",
   "execution_count": null,
   "metadata": {},
   "outputs": [],
   "source": [
    "def unic_characters(string):\n",
    "    rtn = set()\n",
    "    \n",
    "    for char in string:\n",
    "        rtn.add(char)\n",
    "        \n",
    "    return rtn"
   ]
  },
  {
   "cell_type": "markdown",
   "metadata": {},
   "source": [
    "Concatenate all smile string of the pandas dataframe and use **unic_characters** to get the unic_characters "
   ]
  },
  {
   "cell_type": "code",
   "execution_count": null,
   "metadata": {},
   "outputs": [
    {
     "data": {
      "text/plain": [
       "34"
      ]
     },
     "execution_count": 9,
     "metadata": {},
     "output_type": "execute_result"
    }
   ],
   "source": [
    "unic_chars = unic_characters(\" \".join(df['smiles']))\n",
    "nb_chars = len(unic_chars) + 1\n",
    "len(unic_chars)"
   ]
  },
  {
   "cell_type": "markdown",
   "metadata": {},
   "source": [
    "Code a function **map_char_to_int(unic_chars)** which returns a dictionnary where each char is assigned an int value. \n",
    "Add a character to specify the end of the molecule (like \"\\n\")\n"
   ]
  },
  {
   "cell_type": "code",
   "execution_count": null,
   "metadata": {},
   "outputs": [],
   "source": [
    "ending_tocken = \"\\n\"\n",
    "\n",
    "def map_char_to_int(unic_chars):\n",
    "    rtn = dict()\n",
    "    \n",
    "    for i, char in enumerate(unic_chars):\n",
    "        rtn[char] = i\n",
    "        \n",
    "    rtn[ending_tocken] = len(unic_chars)\n",
    "    return rtn"
   ]
  },
  {
   "cell_type": "markdown",
   "metadata": {},
   "source": [
    "Code a function map_int_to_char(unic_chars) which returns the reverse mapping. \n",
    "\n",
    "If you want you can merge both functions in a class"
   ]
  },
  {
   "cell_type": "code",
   "execution_count": null,
   "metadata": {},
   "outputs": [],
   "source": [
    "def map_int_to_char(unic_chars):\n",
    "    rtn = dict()\n",
    "    \n",
    "    for i, char in enumerate(unic_chars):\n",
    "        rtn[i] = char\n",
    "        len(unic_chars)\n",
    "        \n",
    "    rtn[len(unic_chars)] = ending_tocken\n",
    "    return rtn"
   ]
  },
  {
   "cell_type": "markdown",
   "metadata": {},
   "source": [
    "For each smile molecule add the ending token to it"
   ]
  },
  {
   "cell_type": "code",
   "execution_count": null,
   "metadata": {},
   "outputs": [],
   "source": [
    "df[\"smiles\"] = df[\"smiles\"].apply(lambda x: x + ending_tocken)"
   ]
  },
  {
   "cell_type": "code",
   "execution_count": null,
   "metadata": {},
   "outputs": [],
   "source": [
    "dict_char_to_int = map_char_to_int(unic_chars)\n",
    "dict_int_to_char = map_int_to_char(unic_chars)"
   ]
  },
  {
   "cell_type": "markdown",
   "metadata": {},
   "source": [
    "## Building the dataset\n",
    "\n",
    "Now we will create the dataset so that it has the good share for our Keras LSTM model\n",
    "\n",
    "Remember Keras recurrent models expect a 3D array with shapes (n_examples, seq_len, n_features)\n",
    "\n"
   ]
  },
  {
   "cell_type": "markdown",
   "metadata": {},
   "source": [
    "What will be n_features in our case ? "
   ]
  },
  {
   "cell_type": "markdown",
   "metadata": {},
   "source": [
    "Ca sera 3 car on a 3 autres colonnes"
   ]
  },
  {
   "cell_type": "markdown",
   "metadata": {},
   "source": [
    "Code a function **build_X_and_y(string, i_char, seq_lenght)** which takes a string, a **seq_length** number and a position. \n",
    "\n",
    "\n",
    "It should create X by by getting all character between i and i + seq_length \n",
    "and create y by getting the character following the X sequence\n",
    "it returns X and y"
   ]
  },
  {
   "cell_type": "markdown",
   "metadata": {},
   "source": [
    "Test your function on the following string \"\" with seq_length = 4 and i = [1, 2, 3]"
   ]
  },
  {
   "cell_type": "code",
   "execution_count": null,
   "metadata": {},
   "outputs": [
    {
     "name": "stdout",
     "output_type": "stream",
     "text": [
      "('zert', 'y')\n",
      "('erty', 'u')\n",
      "('rtyu', 'i')\n"
     ]
    }
   ],
   "source": [
    "(n_examples, seq_len, n_features) = (len(df),5,1)\n",
    "\n",
    "def build_X_and_y(string, i_char, seq_length):\n",
    "    if(i_char >= len(string) or i_char + seq_length >= len(string)):\n",
    "        return \"\", \"\"\n",
    "    \n",
    "    X = string[i_char:i_char + seq_length]\n",
    "    y = string[i_char + seq_length]\n",
    "    return X, y\n",
    "\n",
    "for i in range(1, 4):\n",
    "    print(build_X_and_y(\"azertyuiop\", i, 4))"
   ]
  },
  {
   "cell_type": "code",
   "execution_count": null,
   "metadata": {},
   "outputs": [
    {
     "data": {
      "text/plain": [
       "('azert', 'y')"
      ]
     },
     "execution_count": 15,
     "metadata": {},
     "output_type": "execute_result"
    }
   ],
   "source": [
    "build_X_and_y(\"azertyuiop\", 0, seq_len)"
   ]
  },
  {
   "cell_type": "markdown",
   "metadata": {},
   "source": [
    "By using build_X_and_y and map_char_to_int build a list nameed X_train and a list named y_train "
   ]
  },
  {
   "cell_type": "code",
   "execution_count": null,
   "metadata": {},
   "outputs": [
    {
     "data": {
      "text/plain": [
       "[23, 23, 17, 23, 4]"
      ]
     },
     "execution_count": 16,
     "metadata": {},
     "output_type": "execute_result"
    }
   ],
   "source": [
    "X_train = []\n",
    "y_train = []\n",
    "\n",
    "for i in df['smiles'].tolist():\n",
    "    \n",
    "    X, y = build_X_and_y(i, 0, seq_len)\n",
    "    \n",
    "    X_ = []\n",
    "\n",
    "    y_ = [0] * nb_chars\n",
    "    y_[dict_char_to_int[y]] = 1\n",
    "    \n",
    "    for e in X:\n",
    "        X_.append(dict_char_to_int[e])\n",
    "    \n",
    "    X_train.append(X_)\n",
    "    y_train.append(y_)\n",
    "    \n",
    "X_train[0]"
   ]
  },
  {
   "cell_type": "markdown",
   "metadata": {},
   "source": [
    "Create numpy arrays from the lists"
   ]
  },
  {
   "cell_type": "code",
   "execution_count": null,
   "metadata": {},
   "outputs": [
    {
     "data": {
      "text/plain": [
       "(1000, 5)"
      ]
     },
     "execution_count": 17,
     "metadata": {},
     "output_type": "execute_result"
    }
   ],
   "source": [
    "import numpy as np\n",
    "X_train = np.array(X_train)\n",
    "y_train = np.array(y_train)\n",
    "\n",
    "X_train.shape"
   ]
  },
  {
   "cell_type": "markdown",
   "metadata": {},
   "source": [
    "Reshape the X numpy array (n_examples, seq_lenght, 1)"
   ]
  },
  {
   "cell_type": "code",
   "execution_count": null,
   "metadata": {},
   "outputs": [],
   "source": [
    "seq_length = seq_len\n",
    "X_train = X_train.reshape(n_examples, seq_length, 1)"
   ]
  },
  {
   "cell_type": "markdown",
   "metadata": {},
   "source": [
    "Normalize X by dividing each values by the total number of unic characters"
   ]
  },
  {
   "cell_type": "code",
   "execution_count": null,
   "metadata": {},
   "outputs": [],
   "source": [
    "X_train = X_train /len(unic_chars)"
   ]
  },
  {
   "cell_type": "markdown",
   "metadata": {},
   "source": [
    "Import Keras and build (at least) a two layered LSTM network with 128 neurone in each.\n",
    "\n",
    "You can also add Dropoutlayers\n",
    "\n",
    "Do you think you should use the return_sequences = True ? If yes, when ? \n",
    "\n",
    "\n",
    "Add a Dense layer on top with with the appropriate activation function and number of neurones \n"
   ]
  },
  {
   "cell_type": "code",
   "execution_count": null,
   "metadata": {},
   "outputs": [
    {
     "name": "stderr",
     "output_type": "stream",
     "text": [
      "2023-01-19 19:35:50.455574: I tensorflow/core/platform/cpu_feature_guard.cc:193] This TensorFlow binary is optimized with oneAPI Deep Neural Network Library (oneDNN) to use the following CPU instructions in performance-critical operations:  AVX2 FMA\n",
      "To enable them in other operations, rebuild TensorFlow with the appropriate compiler flags.\n",
      "2023-01-19 19:35:50.593270: W tensorflow/compiler/xla/stream_executor/platform/default/dso_loader.cc:64] Could not load dynamic library 'libcudart.so.11.0'; dlerror: libcudart.so.11.0: cannot open shared object file: No such file or directory\n",
      "2023-01-19 19:35:50.593303: I tensorflow/compiler/xla/stream_executor/cuda/cudart_stub.cc:29] Ignore above cudart dlerror if you do not have a GPU set up on your machine.\n",
      "2023-01-19 19:35:51.396817: W tensorflow/compiler/xla/stream_executor/platform/default/dso_loader.cc:64] Could not load dynamic library 'libnvinfer.so.7'; dlerror: libnvinfer.so.7: cannot open shared object file: No such file or directory\n",
      "2023-01-19 19:35:51.396878: W tensorflow/compiler/xla/stream_executor/platform/default/dso_loader.cc:64] Could not load dynamic library 'libnvinfer_plugin.so.7'; dlerror: libnvinfer_plugin.so.7: cannot open shared object file: No such file or directory\n",
      "2023-01-19 19:35:51.396886: W tensorflow/compiler/tf2tensorrt/utils/py_utils.cc:38] TF-TRT Warning: Cannot dlopen some TensorRT libraries. If you would like to use Nvidia GPU with TensorRT, please make sure the missing libraries mentioned above are installed properly.\n",
      "2023-01-19 19:35:52.050411: W tensorflow/compiler/xla/stream_executor/platform/default/dso_loader.cc:64] Could not load dynamic library 'libcuda.so.1'; dlerror: libcuda.so.1: cannot open shared object file: No such file or directory\n",
      "2023-01-19 19:35:52.050435: W tensorflow/compiler/xla/stream_executor/cuda/cuda_driver.cc:265] failed call to cuInit: UNKNOWN ERROR (303)\n",
      "2023-01-19 19:35:52.050454: I tensorflow/compiler/xla/stream_executor/cuda/cuda_diagnostics.cc:156] kernel driver does not appear to be running on this host (peuleu): /proc/driver/nvidia/version does not exist\n",
      "2023-01-19 19:35:52.050668: I tensorflow/core/platform/cpu_feature_guard.cc:193] This TensorFlow binary is optimized with oneAPI Deep Neural Network Library (oneDNN) to use the following CPU instructions in performance-critical operations:  AVX2 FMA\n",
      "To enable them in other operations, rebuild TensorFlow with the appropriate compiler flags.\n"
     ]
    }
   ],
   "source": [
    "from keras.models import Sequential\n",
    "from keras.layers import LSTM, Dropout, Dense\n",
    "\n",
    "lstm_neurons = 128\n",
    "\n",
    "dropout_rate = 0.2\n",
    "\n",
    "dense_neurons = 36\n",
    "\n",
    "dense_activation = 'softmax'\n",
    "\n",
    "model = Sequential()\n",
    "\n",
    "model.add(LSTM(lstm_neurons, input_shape=(seq_length, 1), return_sequences=True))\n",
    "model.add(Dropout(dropout_rate))\n",
    "model.add(LSTM(lstm_neurons))\n",
    "model.add(Dropout(dropout_rate))\n",
    "\n",
    "# Add the Dense layer\n",
    "model.add(Dense(nb_chars, activation=dense_activation))"
   ]
  },
  {
   "cell_type": "markdown",
   "metadata": {},
   "source": [
    "Compile the model with the appropriate loss function and the adam optimizer"
   ]
  },
  {
   "cell_type": "code",
   "execution_count": null,
   "metadata": {},
   "outputs": [],
   "source": [
    "from keras.optimizers import Adam\n",
    "\n",
    "loss_function = 'categorical_crossentropy'\n",
    "\n",
    "optimizer = Adam()\n",
    "\n",
    "model.compile(loss=loss_function, optimizer=optimizer, metrics=['accuracy'])\n",
    "\n"
   ]
  },
  {
   "cell_type": "markdown",
   "metadata": {},
   "source": [
    "Train the model on 20 epochs and 10 examples (yeah you read correctly) and check that the model overfits ! "
   ]
  },
  {
   "cell_type": "code",
   "execution_count": null,
   "metadata": {},
   "outputs": [
    {
     "name": "stdout",
     "output_type": "stream",
     "text": [
      "Epoch 1/20\n",
      "10/10 [==============================] - 2s 4ms/step - loss: 3.5392 - accuracy: 0.1000 \n",
      "Epoch 2/20\n",
      "10/10 [==============================] - 0s 5ms/step - loss: 3.3551 - accuracy: 0.3000\n",
      "Epoch 3/20\n",
      "10/10 [==============================] - 0s 5ms/step - loss: 2.8879 - accuracy: 0.3000\n",
      "Epoch 4/20\n",
      "10/10 [==============================] - 0s 5ms/step - loss: 2.2674 - accuracy: 0.3000\n",
      "Epoch 5/20\n",
      "10/10 [==============================] - 0s 5ms/step - loss: 2.0133 - accuracy: 0.2000\n",
      "Epoch 6/20\n",
      "10/10 [==============================] - 0s 5ms/step - loss: 1.8272 - accuracy: 0.3000\n",
      "Epoch 7/20\n",
      "10/10 [==============================] - 0s 5ms/step - loss: 1.7794 - accuracy: 0.4000\n",
      "Epoch 8/20\n",
      "10/10 [==============================] - 0s 6ms/step - loss: 1.8607 - accuracy: 0.3000\n",
      "Epoch 9/20\n",
      "10/10 [==============================] - 0s 7ms/step - loss: 1.8102 - accuracy: 0.2000\n",
      "Epoch 10/20\n",
      "10/10 [==============================] - 0s 6ms/step - loss: 1.8010 - accuracy: 0.1000\n",
      "Epoch 11/20\n",
      "10/10 [==============================] - 0s 6ms/step - loss: 1.7932 - accuracy: 0.3000\n",
      "Epoch 12/20\n",
      "10/10 [==============================] - 0s 6ms/step - loss: 1.8852 - accuracy: 0.2000\n",
      "Epoch 13/20\n",
      "10/10 [==============================] - 0s 5ms/step - loss: 1.8238 - accuracy: 0.2000\n",
      "Epoch 14/20\n",
      "10/10 [==============================] - 0s 5ms/step - loss: 1.7364 - accuracy: 0.4000\n",
      "Epoch 15/20\n",
      "10/10 [==============================] - 0s 5ms/step - loss: 1.7698 - accuracy: 0.2000\n",
      "Epoch 16/20\n",
      "10/10 [==============================] - 0s 5ms/step - loss: 1.7442 - accuracy: 0.3000\n",
      "Epoch 17/20\n",
      "10/10 [==============================] - 0s 4ms/step - loss: 1.8203 - accuracy: 0.3000\n",
      "Epoch 18/20\n",
      "10/10 [==============================] - 0s 4ms/step - loss: 1.7302 - accuracy: 0.4000\n",
      "Epoch 19/20\n",
      "10/10 [==============================] - 0s 4ms/step - loss: 1.7385 - accuracy: 0.2000\n",
      "Epoch 20/20\n",
      "10/10 [==============================] - 0s 4ms/step - loss: 1.7359 - accuracy: 0.3000\n"
     ]
    },
    {
     "data": {
      "text/plain": [
       "<keras.callbacks.History at 0x7ff158613ca0>"
      ]
     },
     "execution_count": 22,
     "metadata": {},
     "output_type": "execute_result"
    }
   ],
   "source": [
    "model.fit(X_train[:10], y_train[:10], epochs=20, batch_size=1)"
   ]
  },
  {
   "cell_type": "markdown",
   "metadata": {},
   "source": [
    "If it does not overfit try to fix data prep and model architecture so it does"
   ]
  },
  {
   "attachments": {},
   "cell_type": "markdown",
   "metadata": {},
   "source": [
    "It overfit"
   ]
  },
  {
   "cell_type": "markdown",
   "metadata": {},
   "source": [
    "Create a function **make_prediction(seed_start)** which takes a starting string sequence and uses it to generate a molecule\n"
   ]
  },
  {
   "cell_type": "code",
   "execution_count": null,
   "metadata": {},
   "outputs": [],
   "source": [
    "# Create a function make_prediction(seed_start) wich takes a starting sequence and uses it to generate a molecule\n",
    "\n",
    "def make_prediction(seed_start):\n",
    "    seed = [dict_char_to_int[i] for i in seed_start]\n",
    "    seed = np.array(seed)\n",
    "    seed = seed.reshape(1, seq_length, 1)\n",
    "    seed = seed / len(unic_chars)\n",
    "    \n",
    "    prediction = model.predict(seed)\n",
    "    \n",
    "    prediction = np.argmax(prediction)\n",
    "    \n",
    "    return seed_start + dict_int_to_char[prediction]"
   ]
  },
  {
   "cell_type": "markdown",
   "metadata": {},
   "source": [
    "generate a molecule of your overfitted model"
   ]
  },
  {
   "cell_type": "code",
   "execution_count": null,
   "metadata": {},
   "outputs": [],
   "source": [
    "# Test it with a random seed\n",
    "print(make_prediction(\"CCOCOCC\"))"
   ]
  },
  {
   "cell_type": "markdown",
   "metadata": {},
   "source": [
    "Make a model checkpoint so that the model is saved after each epoch\n",
    "if you train on a plateform and it stops you do not lose your training "
   ]
  },
  {
   "cell_type": "code",
   "execution_count": null,
   "metadata": {},
   "outputs": [],
   "source": []
  },
  {
   "cell_type": "markdown",
   "metadata": {},
   "source": [
    "Now go to your favorite plateform (colab or something else) and train the dataset on the whole data for 10 epochs and batch size 256 \n",
    "\n",
    "it should take a long time so either follow the class or go take a nap "
   ]
  },
  {
   "cell_type": "code",
   "execution_count": null,
   "metadata": {},
   "outputs": [],
   "source": []
  },
  {
   "cell_type": "markdown",
   "metadata": {},
   "source": [
    "Generate between 100 and 1000 molecules. \n",
    "\n",
    "create a list where molecules have between 10 and 50 atoms"
   ]
  },
  {
   "cell_type": "code",
   "execution_count": null,
   "metadata": {},
   "outputs": [],
   "source": []
  },
  {
   "cell_type": "markdown",
   "metadata": {},
   "source": [
    "With rdkit compute the Quantified Estimated Drug likelyness (QED) of each molecule in this subset"
   ]
  },
  {
   "cell_type": "code",
   "execution_count": null,
   "metadata": {},
   "outputs": [],
   "source": []
  },
  {
   "cell_type": "markdown",
   "metadata": {},
   "source": [
    "Bonus 1 : Using rdkit, compute the quantitative estimation of drug-likeness (QED) of your generated molecules. "
   ]
  },
  {
   "cell_type": "code",
   "execution_count": null,
   "metadata": {},
   "outputs": [],
   "source": []
  },
  {
   "cell_type": "markdown",
   "metadata": {},
   "source": [
    "Bonus 2 : try to adapt a transformer model training from hugging face to see if it is better"
   ]
  },
  {
   "cell_type": "code",
   "execution_count": null,
   "metadata": {},
   "outputs": [],
   "source": []
  }
 ],
 "metadata": {
  "kernelspec": {
   "display_name": "Python 3",
   "language": "python",
   "name": "python3"
  },
  "language_info": {
   "codemirror_mode": {
    "name": "ipython",
    "version": 3
   },
   "file_extension": ".py",
   "mimetype": "text/x-python",
   "name": "python",
   "nbconvert_exporter": "python",
   "pygments_lexer": "ipython3",
   "version": "3.10.8 (main, Nov  1 2022, 14:18:21) [GCC 12.2.0]"
  },
  "vscode": {
   "interpreter": {
    "hash": "e7370f93d1d0cde622a1f8e1c04877d8463912d04d973331ad4851f04de6915a"
   }
  }
 },
 "nbformat": 4,
 "nbformat_minor": 4
}
